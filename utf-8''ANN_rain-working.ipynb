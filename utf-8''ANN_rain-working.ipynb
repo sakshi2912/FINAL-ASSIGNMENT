{
  "cells": [
    {
      "metadata": {
        "trusted": true
      },
      "cell_type": "code",
      "source": "import numpy as np # linear algebra\nimport pandas as pd # data processing, CSV file I/O (e.g. pd.read_csv)\n\n# Input data files are available in the \"../input/\" directory.\n# For example, running this (by clicking run or pressing Shift+Enter) will list the files in the input directory\n\n",
      "execution_count": 1,
      "outputs": []
    },
    {
      "metadata": {
        "trusted": true
      },
      "cell_type": "code",
      "source": "dataset = pd.read_csv(\"Weather.csv\")\n\n#Preprocessing\n    #Viewing all the columns information\ndataset.info()          \n    #Sorting columns by their count in ascending order\ndataset.count().sort_values()       #\n    #Dropping columns with less records column wise\ndataset = dataset.drop(['Sunshine','Evaporation','Cloud3pm','Cloud9am','RISK_MM'], axis = 1)\n    #Deleting records with null values\ndataset = dataset.dropna(axis = 'rows')",
      "execution_count": 2,
      "outputs": [
        {
          "output_type": "stream",
          "text": "<class 'pandas.core.frame.DataFrame'>\nRangeIndex: 142133 entries, 0 to 142132\nData columns (total 24 columns):\nDate             142133 non-null object\nLocation         142133 non-null object\nMinTemp          141496 non-null float64\nMaxTemp          141811 non-null float64\nRainfall         140727 non-null float64\nEvaporation      81350 non-null float64\nSunshine         74377 non-null float64\nWindGustDir      132803 non-null object\nWindGustSpeed    132863 non-null float64\nWindDir9am       132122 non-null object\nWindDir3pm       138355 non-null object\nWindSpeed9am     140785 non-null float64\nWindSpeed3pm     139503 non-null float64\nHumidity9am      140359 non-null float64\nHumidity3pm      138523 non-null float64\nPressure9am      128119 non-null float64\nPressure3pm      128152 non-null float64\nCloud9am         88528 non-null float64\nCloud3pm         85091 non-null float64\nTemp9am          141229 non-null float64\nTemp3pm          139407 non-null float64\nRainToday        140727 non-null object\nRISK_MM          142133 non-null float64\nRainTomorrow     142133 non-null object\ndtypes: float64(17), object(7)\nmemory usage: 26.0+ MB\n",
          "name": "stdout"
        }
      ]
    },
    {
      "metadata": {
        "trusted": true
      },
      "cell_type": "code",
      "source": "X = dataset.iloc[:, 2:18]\ny = dataset.iloc[:, 18]\ndata = dataset.head(1000)\n",
      "execution_count": 3,
      "outputs": []
    },
    {
      "metadata": {
        "trusted": true
      },
      "cell_type": "code",
      "source": "from sklearn.preprocessing import LabelEncoder, OneHotEncoder\n\n\"\"\"WindGustDir\"\"\"\nle = LabelEncoder()\nX['WindGustDir'] = le.fit_transform(X['WindGustDir'])\n\n\"\"\"WindDir9am\"\"\"\nle1 = LabelEncoder()\nX['WindDir9am'] = le1.fit_transform(X['WindDir9am'])\n\n\"\"\"WindDir3pm\"\"\"\nle2 = LabelEncoder()\nX['WindDir3pm'] = le2.fit_transform(X['WindDir3pm'])\n\n\"\"\"RainToday\"\"\"\nle3 = LabelEncoder()\nX['RainToday'] = le3.fit_transform(X['RainToday'])\n",
      "execution_count": 4,
      "outputs": []
    },
    {
      "metadata": {
        "trusted": true
      },
      "cell_type": "code",
      "source": "\"\"\"WindGustDir\"\"\"\nohe = OneHotEncoder(categorical_features=[3])\nX = ohe.fit_transform(X).toarray()\nX = X[:,1:]\n\n\"\"\"WindDir9am\"\"\"\nohe1 = OneHotEncoder(categorical_features=[19])\nX = ohe1.fit_transform(X).toarray()\nX = X[:,1:]\n\n\"\"\"WindDir3pm\"\"\"\nohe2 = OneHotEncoder(categorical_features=[33])\nX = ohe2.fit_transform(X).toarray()\nX = X[:,1:]\n\n\"\"\"RainToday\"\"\"\nohe3 = OneHotEncoder(categorical_features=[55])\nX = ohe3.fit_transform(X).toarray()\nX = X[:,1:]\n",
      "execution_count": 5,
      "outputs": [
        {
          "output_type": "stream",
          "text": "/home/nbuser/anaconda3_501/lib/python3.6/site-packages/sklearn/preprocessing/_encoders.py:371: FutureWarning: The handling of integer data will change in version 0.22. Currently, the categories are determined based on the range [0, max(values)], while in the future they will be determined based on the unique values.\nIf you want the future behaviour and silence this warning, you can specify \"categories='auto'\".\nIn case you used a LabelEncoder before this OneHotEncoder to convert the categories to integers, then you can now use the OneHotEncoder directly.\n  warnings.warn(msg, FutureWarning)\n/home/nbuser/anaconda3_501/lib/python3.6/site-packages/sklearn/preprocessing/_encoders.py:392: DeprecationWarning: The 'categorical_features' keyword is deprecated in version 0.20 and will be removed in 0.22. You can use the ColumnTransformer instead.\n  \"use the ColumnTransformer instead.\", DeprecationWarning)\n/home/nbuser/anaconda3_501/lib/python3.6/site-packages/sklearn/preprocessing/_encoders.py:371: FutureWarning: The handling of integer data will change in version 0.22. Currently, the categories are determined based on the range [0, max(values)], while in the future they will be determined based on the unique values.\nIf you want the future behaviour and silence this warning, you can specify \"categories='auto'\".\nIn case you used a LabelEncoder before this OneHotEncoder to convert the categories to integers, then you can now use the OneHotEncoder directly.\n  warnings.warn(msg, FutureWarning)\n/home/nbuser/anaconda3_501/lib/python3.6/site-packages/sklearn/preprocessing/_encoders.py:392: DeprecationWarning: The 'categorical_features' keyword is deprecated in version 0.20 and will be removed in 0.22. You can use the ColumnTransformer instead.\n  \"use the ColumnTransformer instead.\", DeprecationWarning)\n/home/nbuser/anaconda3_501/lib/python3.6/site-packages/sklearn/preprocessing/_encoders.py:371: FutureWarning: The handling of integer data will change in version 0.22. Currently, the categories are determined based on the range [0, max(values)], while in the future they will be determined based on the unique values.\nIf you want the future behaviour and silence this warning, you can specify \"categories='auto'\".\nIn case you used a LabelEncoder before this OneHotEncoder to convert the categories to integers, then you can now use the OneHotEncoder directly.\n  warnings.warn(msg, FutureWarning)\n/home/nbuser/anaconda3_501/lib/python3.6/site-packages/sklearn/preprocessing/_encoders.py:392: DeprecationWarning: The 'categorical_features' keyword is deprecated in version 0.20 and will be removed in 0.22. You can use the ColumnTransformer instead.\n  \"use the ColumnTransformer instead.\", DeprecationWarning)\n/home/nbuser/anaconda3_501/lib/python3.6/site-packages/sklearn/preprocessing/_encoders.py:371: FutureWarning: The handling of integer data will change in version 0.22. Currently, the categories are determined based on the range [0, max(values)], while in the future they will be determined based on the unique values.\nIf you want the future behaviour and silence this warning, you can specify \"categories='auto'\".\nIn case you used a LabelEncoder before this OneHotEncoder to convert the categories to integers, then you can now use the OneHotEncoder directly.\n  warnings.warn(msg, FutureWarning)\n/home/nbuser/anaconda3_501/lib/python3.6/site-packages/sklearn/preprocessing/_encoders.py:392: DeprecationWarning: The 'categorical_features' keyword is deprecated in version 0.20 and will be removed in 0.22. You can use the ColumnTransformer instead.\n  \"use the ColumnTransformer instead.\", DeprecationWarning)\n",
          "name": "stderr"
        }
      ]
    },
    {
      "metadata": {
        "trusted": true
      },
      "cell_type": "code",
      "source": "#splitting the data into training & test set\nfrom sklearn.model_selection import train_test_split\nX_train, X_test, y_train, y_test = train_test_split(X, y, test_size = 0.2)\n\n#Standardization\nfrom sklearn.preprocessing import StandardScaler\nss  = StandardScaler()\nX_train = ss.fit_transform(X_train)\nX_test = ss.fit_transform(X_test)\ny_train = (y_train == 'Yes')\n",
      "execution_count": 6,
      "outputs": []
    },
    {
      "metadata": {
        "trusted": true
      },
      "cell_type": "code",
      "source": "import keras\nfrom keras.models import Sequential\nfrom keras.layers import Dense\n\nclassifier = Sequential()\n#Adding 2 HL\nclassifier.add(Dense(input_dim = 108, activation = 'relu', kernel_initializer = 'uniform', output_dim = 55))\nclassifier.add(Dense(activation = 'relu', kernel_initializer = 'uniform', output_dim = 55))\nclassifier.add(Dense(activation = 'sigmoid', kernel_initializer = 'uniform', output_dim = 1))\n\nclassifier.compile(optimizer = 'adam', loss = 'binary_crossentropy', metrics = ['accuracy'])\nclassifier.fit(X_train, y_train, epochs = 32, batch_size = 10)",
      "execution_count": 7,
      "outputs": [
        {
          "output_type": "stream",
          "text": "Using TensorFlow backend.\n/home/nbuser/anaconda3_501/lib/python3.6/site-packages/ipykernel/__main__.py:7: UserWarning: Update your `Dense` call to the Keras 2 API: `Dense(input_dim=108, activation=\"relu\", kernel_initializer=\"uniform\", units=55)`\n/home/nbuser/anaconda3_501/lib/python3.6/site-packages/ipykernel/__main__.py:8: UserWarning: Update your `Dense` call to the Keras 2 API: `Dense(activation=\"relu\", kernel_initializer=\"uniform\", units=55)`\n/home/nbuser/anaconda3_501/lib/python3.6/site-packages/ipykernel/__main__.py:9: UserWarning: Update your `Dense` call to the Keras 2 API: `Dense(activation=\"sigmoid\", kernel_initializer=\"uniform\", units=1)`\n",
          "name": "stderr"
        },
        {
          "output_type": "stream",
          "text": "Epoch 1/32\n90293/90293 [==============================] - 48s 527us/step - loss: 0.3592 - acc: 0.8446\nEpoch 2/32\n90293/90293 [==============================] - 45s 495us/step - loss: 0.3441 - acc: 0.8518\nEpoch 3/32\n90293/90293 [==============================] - 45s 503us/step - loss: 0.3385 - acc: 0.8533\nEpoch 4/32\n90293/90293 [==============================] - 46s 504us/step - loss: 0.3340 - acc: 0.8545\nEpoch 5/32\n90293/90293 [==============================] - 46s 504us/step - loss: 0.3307 - acc: 0.8570\nEpoch 6/32\n90293/90293 [==============================] - 47s 522us/step - loss: 0.3272 - acc: 0.8580\nEpoch 7/32\n90293/90293 [==============================] - 46s 511us/step - loss: 0.3252 - acc: 0.8586\nEpoch 8/32\n90293/90293 [==============================] - 43s 479us/step - loss: 0.3226 - acc: 0.8601\nEpoch 9/32\n90293/90293 [==============================] - 44s 491us/step - loss: 0.3201 - acc: 0.8615\nEpoch 10/32\n90293/90293 [==============================] - 44s 482us/step - loss: 0.3182 - acc: 0.8619\nEpoch 11/32\n90293/90293 [==============================] - 44s 493us/step - loss: 0.3158 - acc: 0.8628\nEpoch 12/32\n90293/90293 [==============================] - 45s 503us/step - loss: 0.3141 - acc: 0.8634\nEpoch 13/32\n90293/90293 [==============================] - 45s 504us/step - loss: 0.3116 - acc: 0.86520s - loss: 0.3116 - acc: 0.86\nEpoch 14/32\n90293/90293 [==============================] - 43s 472us/step - loss: 0.3103 - acc: 0.8663\nEpoch 15/32\n90293/90293 [==============================] - 43s 479us/step - loss: 0.3087 - acc: 0.8667\nEpoch 16/32\n90293/90293 [==============================] - 43s 481us/step - loss: 0.3068 - acc: 0.8676\nEpoch 17/32\n90293/90293 [==============================] - 44s 490us/step - loss: 0.3052 - acc: 0.8678\nEpoch 18/32\n90293/90293 [==============================] - 45s 495us/step - loss: 0.3043 - acc: 0.8691\nEpoch 19/32\n90293/90293 [==============================] - 44s 491us/step - loss: 0.3025 - acc: 0.8701\nEpoch 20/32\n90293/90293 [==============================] - 42s 465us/step - loss: 0.3007 - acc: 0.8713\nEpoch 21/32\n90293/90293 [==============================] - 45s 496us/step - loss: 0.3000 - acc: 0.8707\nEpoch 22/32\n90293/90293 [==============================] - 46s 507us/step - loss: 0.2988 - acc: 0.8716\nEpoch 23/32\n90293/90293 [==============================] - 45s 499us/step - loss: 0.2968 - acc: 0.8727\nEpoch 24/32\n90293/90293 [==============================] - 49s 542us/step - loss: 0.2954 - acc: 0.8729\nEpoch 25/32\n90293/90293 [==============================] - 54s 603us/step - loss: 0.2947 - acc: 0.8734\nEpoch 26/32\n90293/90293 [==============================] - 48s 531us/step - loss: 0.2935 - acc: 0.8747\nEpoch 27/32\n90293/90293 [==============================] - 53s 586us/step - loss: 0.2927 - acc: 0.8744\nEpoch 28/32\n90293/90293 [==============================] - 53s 589us/step - loss: 0.2917 - acc: 0.8750\nEpoch 29/32\n90293/90293 [==============================] - 55s 604us/step - loss: 0.2904 - acc: 0.8763\nEpoch 30/32\n90293/90293 [==============================] - 56s 618us/step - loss: 0.2894 - acc: 0.8763\nEpoch 31/32\n90293/90293 [==============================] - 47s 522us/step - loss: 0.2882 - acc: 0.8771\nEpoch 32/32\n90293/90293 [==============================] - 50s 558us/step - loss: 0.2871 - acc: 0.8777\n",
          "name": "stdout"
        },
        {
          "output_type": "execute_result",
          "execution_count": 7,
          "data": {
            "text/plain": "<keras.callbacks.History at 0x7f8e90182c88>"
          },
          "metadata": {}
        }
      ]
    },
    {
      "metadata": {
        "trusted": true
      },
      "cell_type": "code",
      "source": "y_pred = classifier.predict(X_test)\ny_pred = (y_pred > 0.5)\ny_test = (y_test == 'Yes')\n\n#Confusion Matrix\nfrom sklearn.metrics import confusion_matrix\ncm = confusion_matrix(y_test, y_pred)\ncm",
      "execution_count": 8,
      "outputs": [
        {
          "output_type": "execute_result",
          "execution_count": 8,
          "data": {
            "text/plain": "array([[16258,  1323],\n       [ 2219,  2774]])"
          },
          "metadata": {}
        }
      ]
    },
    {
      "metadata": {
        "trusted": true
      },
      "cell_type": "code",
      "source": "",
      "execution_count": null,
      "outputs": []
    }
  ],
  "metadata": {
    "kernelspec": {
      "name": "python36",
      "display_name": "Python 3.6",
      "language": "python"
    },
    "language_info": {
      "mimetype": "text/x-python",
      "nbconvert_exporter": "python",
      "name": "python",
      "pygments_lexer": "ipython3",
      "version": "3.6.6",
      "file_extension": ".py",
      "codemirror_mode": {
        "version": 3,
        "name": "ipython"
      }
    }
  },
  "nbformat": 4,
  "nbformat_minor": 2
}